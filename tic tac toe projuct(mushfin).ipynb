{
 "cells": [
  {
   "cell_type": "code",
   "execution_count": 1,
   "id": "7e19d8f1",
   "metadata": {},
   "outputs": [
    {
     "name": "stdout",
     "output_type": "stream",
     "text": [
      "WINNER s\n",
      "X |   | O\n",
      "-----------\n",
      "X | O | X\n",
      "-----------\n",
      "O | X | O\n"
     ]
    }
   ],
   "source": [
    "from IPython.display import clear_output\n",
    "\n",
    "p=input('Enter Name Of Player 1:')\n",
    "q=input('ENter Name Of Player 2:')\n",
    "\n",
    "import random \n",
    "a=[p,q]\n",
    "b=random.choice(a)\n",
    "current_player=b\n",
    "print('first play:',b)\n",
    "\n",
    "board={1:' ',2:' ',3:' ',\n",
    "       4:' ',5:' ',6:' ',\n",
    "       7:' ',8:' ',9:' '}\n",
    "\n",
    "mark='X'\n",
    "\n",
    "def display_board(board):\n",
    "    global won\n",
    "    won =False\n",
    "    point=['X','O']\n",
    "    \n",
    "    \n",
    "    print( board[1] + ' | ' + board[2] + ' | ' + board[3])\n",
    "    print('-----------')\n",
    "    print( board[4] + ' | ' + board[5] + ' | ' + board[6])\n",
    "    print('-----------')\n",
    "    print( board[7] + ' | ' + board[8] + ' | ' + board[9])\n",
    "     \n",
    "def check_win(board):\n",
    "    global game\n",
    "    if board[1]=='X' and board [2]=='X' and board [3]=='X' or board [1]=='O' and board [2]=='O' and board [3]=='O':\n",
    "        print('WINNER',b)\n",
    "        game = False\n",
    "    elif board[1]=='X' and board [4]=='X' and board [7]=='X' or board [1]=='O' and board[4]=='O' and board[7]=='O':\n",
    "        print('WINNER',b)\n",
    "        game = False\n",
    "    elif board[3]=='X' and board [6]=='X' and board[9]=='X' or board [3]=='O' and board [6]=='O' and board[9]=='O':\n",
    "        print('WINNER',b)\n",
    "        game = False\n",
    "    elif board[7]=='X' and board[8]=='X' and board[9]=='X' or board[7]=='O' and board[8]=='O' and board[9]=='O':\n",
    "        print('WINNER',b)\n",
    "        game = False\n",
    "    elif board[1]=='X' and board[5]=='X' and board[9]=='X' or board[1]=='O' and board[5]=='O' and board[9]=='O':\n",
    "        print('WINNER',b)\n",
    "        game = False\n",
    "    elif board[3]=='X' and board[5]=='X' and board[7]=='X' or board[3]=='O' and board[5]=='O' and board[7]=='O':\n",
    "        print('WINNER',b)\n",
    "        game = False\n",
    "    elif board[4]=='X' and board[5]=='X' and board[6]=='X' or board[4]=='O' and board[5]=='O' and board[6]=='O':\n",
    "        print('WINNER',b)\n",
    "        game = False\n",
    "    elif board[1]!=' ' and board[2]!=' ' and board[3]!=' ' and board[4] !=' ' and board[5] !=' ' and board[6] !=' ' and board[7] !=' ' and board[8] !=' ' and board[9] !=' ':\n",
    "        print('DRAW')\n",
    "        game = True\n",
    "\n",
    "game = True\n",
    "while game:\n",
    "    user_input = input('Enter number from 1-9-')\n",
    "    if user_input in '123456789' and user_input != '':\n",
    "        user_input = int(user_input)\n",
    "    else:\n",
    "        print('Please Enter numbers from 1-9 only!!!!')\n",
    "        continue\n",
    "    \n",
    "    display_board(board)\n",
    "    if board[user_input] == ' ':\n",
    "        board[user_input]=mark\n",
    "        if mark == 'X':\n",
    "            mark='O'\n",
    "        else:\n",
    "            mark = 'X'\n",
    "        clear_output()\n",
    "        check_win(board)\n",
    "        display_board(board)\n",
    "\n",
    "    else:\n",
    "        continue"
   ]
  },
  {
   "cell_type": "markdown",
   "id": "e14a74e2",
   "metadata": {},
   "source": [
    "#### "
   ]
  },
  {
   "cell_type": "code",
   "execution_count": null,
   "id": "f4ea4e22",
   "metadata": {},
   "outputs": [],
   "source": []
  }
 ],
 "metadata": {
  "kernelspec": {
   "display_name": "Python 3 (ipykernel)",
   "language": "python",
   "name": "python3"
  },
  "language_info": {
   "codemirror_mode": {
    "name": "ipython",
    "version": 3
   },
   "file_extension": ".py",
   "mimetype": "text/x-python",
   "name": "python",
   "nbconvert_exporter": "python",
   "pygments_lexer": "ipython3",
   "version": "3.10.9"
  }
 },
 "nbformat": 4,
 "nbformat_minor": 5
}
